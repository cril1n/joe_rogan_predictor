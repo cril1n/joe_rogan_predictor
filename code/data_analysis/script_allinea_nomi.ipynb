{
 "cells": [
  {
   "cell_type": "code",
   "execution_count": null,
   "id": "e7da3382",
   "metadata": {},
   "outputs": [],
   "source": [
    "import pandas as pd"
   ]
  },
  {
   "cell_type": "code",
   "execution_count": null,
   "id": "5eb24b97",
   "metadata": {},
   "outputs": [],
   "source": [
    "#FILE DA CONFRONTARE\n",
    "\n",
    "file1 = '../data2/ospiti_cleared(6).csv'\n",
    "colonna_nomi_file1 = 'nome'\n",
    "\n",
    "file2 = '../output/associazione_guest_visual_mean.csv'\n",
    "colonna_nomi_file2 = 'nome'  "
   ]
  },
  {
   "cell_type": "code",
   "execution_count": null,
   "id": "82bcd6f1",
   "metadata": {},
   "outputs": [],
   "source": [
    "df1 = pd.read_csv(file1)\n",
    "\n",
    "nomi_file1 = df1[colonna_nomi_file1].dropna().astype(str).str.strip()\n",
    "\n",
    "df2 = pd.read_csv(file2)\n",
    "\n",
    "nomi_file2 = df2[colonna_nomi_file2].dropna().astype(str).str.strip()\n"
   ]
  },
  {
   "cell_type": "code",
   "execution_count": null,
   "id": "65b2f8a6",
   "metadata": {},
   "outputs": [],
   "source": [
    "    \n",
    "print(len(nomi_file1))\n",
    "\n",
    "set_nomi_file1 = set(nomi_file1)\n",
    "print(len(set_nomi_file1))\n",
    "set_nomi_file2 = set(nomi_file2)\n",
    "print(len(set_nomi_file2))\n",
    "\n",
    "solo_file1 = set_nomi_file1 - set_nomi_file2  # Nomi solo nel File 1\n",
    "solo_file2 = set_nomi_file2 - set_nomi_file1  # Nomi solo nel File 2  \n",
    "in_entrambi = set_nomi_file1 & set_nomi_file2  # Nomi in entrambi i file\n",
    "\n",
    "print(f\"Nomi presenti SOLO nel File 1: {len(solo_file1)}\", solo_file1)\n",
    "print(f\"Nomi presenti SOLO nel File 2: {len(solo_file2)}\", solo_file2)\n",
    "print(f\"Nomi presenti in ENTRAMBI i file: {len(in_entrambi)}\")\n",
    "            \n"
   ]
  }
 ],
 "metadata": {
  "kernelspec": {
   "display_name": ".venv-py311",
   "language": "python",
   "name": "python3"
  },
  "language_info": {
   "codemirror_mode": {
    "name": "ipython",
    "version": 3
   },
   "file_extension": ".py",
   "mimetype": "text/x-python",
   "name": "python",
   "nbconvert_exporter": "python",
   "pygments_lexer": "ipython3",
   "version": "3.11.9"
  }
 },
 "nbformat": 4,
 "nbformat_minor": 5
}
