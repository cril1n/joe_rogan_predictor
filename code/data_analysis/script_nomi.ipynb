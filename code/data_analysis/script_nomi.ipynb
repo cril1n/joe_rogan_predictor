{
 "cells": [
  {
   "cell_type": "code",
   "execution_count": null,
   "id": "9e5fd2cd",
   "metadata": {},
   "outputs": [],
   "source": [
    "import pandas as pd\n",
    "\n",
    "df = pd.read_csv(\"../yt/joe_rogan_episodes_separated_guests.csv\")\n",
    "\n",
    "lista_nomi = df[\"guest\"].tolist()\n",
    "\n",
    "with open(\"lista_ospiti.txt\", \"w\", encoding=\"utf-8\") as f:\n",
    "    for nome in lista_nomi:\n",
    "        f.write(f\"{nome}\\n\")"
   ]
  }
 ],
 "metadata": {
  "kernelspec": {
   "display_name": ".venv-py311",
   "language": "python",
   "name": "python3"
  },
  "language_info": {
   "codemirror_mode": {
    "name": "ipython",
    "version": 3
   },
   "file_extension": ".py",
   "mimetype": "text/x-python",
   "name": "python",
   "nbconvert_exporter": "python",
   "pygments_lexer": "ipython3",
   "version": "3.11.9"
  }
 },
 "nbformat": 4,
 "nbformat_minor": 5
}
