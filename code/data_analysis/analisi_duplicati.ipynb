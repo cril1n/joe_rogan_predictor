{
 "cells": [
  {
   "cell_type": "code",
   "execution_count": null,
   "id": "895a1ca8",
   "metadata": {},
   "outputs": [],
   "source": [
    "import pandas as pd\n",
    "\n",
    "\n",
    "file_path = '../data2/ospiti_cleared(6).csv'\n",
    "column_name = 'nome'\n",
    "\n",
    "df = pd.read_csv(file_path)\n",
    "\n",
    "duplicati = df[column_name].value_counts()[df[column_name].value_counts() > 1]\n",
    "\n",
    "print(duplicati)"
   ]
  },
  {
   "cell_type": "code",
   "execution_count": null,
   "id": "39f72826",
   "metadata": {},
   "outputs": [],
   "source": [
    "import json\n",
    "from collections import Counter\n",
    "\n",
    "def trova_duplicati_nickname_json(file_path, nickname_key='nickname'):\n",
    "    with open(file_path, 'r', encoding='utf-8') as file:\n",
    "        data = json.load(file)\n",
    "    \n",
    "    nicknames = [nick for nick in data['hBMoPUAeLnY'] if nick and nick.strip()]\n",
    "    \n",
    "    conteggio = Counter(nicknames)\n",
    "    \n",
    "    duplicati = {nick: count for nick, count in conteggio.items() if count > 1}\n",
    "    \n",
    "    if duplicati:\n",
    "        print(\"Nickname duplicati trovati:\")\n",
    "        for nickname, occorrenze in duplicati.items():\n",
    "            print(f\"'{nickname}': {occorrenze} occorrenze\")\n",
    "        print(f\"\\nTotale nickname duplicati: {len(duplicati)}\")\n",
    "\n",
    "        \n",
    "    print(f\"\\nTotale nickname unici: {len(set(nicknames))}\")\n",
    "    print(f\"Totale nickname: {len(nicknames)}\")\n",
    "\n",
    "\n",
    "json_file_path = '../yt/yt_data/video_commenters_2.json'\n",
    "trova_duplicati_nickname_json(json_file_path, nickname_key='nickname')"
   ]
  }
 ],
 "metadata": {
  "kernelspec": {
   "display_name": ".venv-py311",
   "language": "python",
   "name": "python3"
  },
  "language_info": {
   "codemirror_mode": {
    "name": "ipython",
    "version": 3
   },
   "file_extension": ".py",
   "mimetype": "text/x-python",
   "name": "python",
   "nbconvert_exporter": "python",
   "pygments_lexer": "ipython3",
   "version": "3.11.9"
  }
 },
 "nbformat": 4,
 "nbformat_minor": 5
}
