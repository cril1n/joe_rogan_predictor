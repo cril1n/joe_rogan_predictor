{
 "cells": [
  {
   "cell_type": "code",
   "execution_count": null,
   "id": "a39a072f",
   "metadata": {},
   "outputs": [],
   "source": [
    "import csv\n",
    "import os\n",
    "\n",
    "data_file = '../gemini/gem_data/guest_data_uniformati_3.csv'\n",
    "output_dir = '../gemini/gem_data/liste_valori_uniformate'\n",
    "\n",
    "os.makedirs(output_dir, exist_ok=True)\n",
    "\n",
    "value_counts = {}\n",
    "\n",
    "with open(data_file, newline='', encoding='utf-8') as f:\n",
    "    reader = csv.DictReader(f)\n",
    "    for row in reader:\n",
    "        for key, value in row.items():\n",
    "            if key not in value_counts:\n",
    "                value_counts[key] = {}\n",
    "            if value.strip():\n",
    "                clean_value = value.strip()\n",
    "                if clean_value in value_counts[key]:\n",
    "                    value_counts[key][clean_value] += 1\n",
    "                else:\n",
    "                    value_counts[key][clean_value] = 1\n",
    "\n",
    "for key, values_dict in value_counts.items():\n",
    "    sorted_values = sorted(values_dict.items(), key=lambda x: (-x[1], x[0]))\n",
    "    \n",
    "    safe_key = key.replace(\" \", \"_\")\n",
    "    file_path = os.path.join(output_dir, f\"unique_{safe_key}.txt\")\n",
    "    \n",
    "    with open(file_path, \"w\", encoding=\"utf-8\") as out_file:\n",
    "        for value, count in sorted_values:\n",
    "            out_file.write(f\"{value} ({count} occorrenze)\\n\")"
   ]
  }
 ],
 "metadata": {
  "kernelspec": {
   "display_name": ".venv-py311",
   "language": "python",
   "name": "python3"
  },
  "language_info": {
   "codemirror_mode": {
    "name": "ipython",
    "version": 3
   },
   "file_extension": ".py",
   "mimetype": "text/x-python",
   "name": "python",
   "nbconvert_exporter": "python",
   "pygments_lexer": "ipython3",
   "version": "3.11.9"
  }
 },
 "nbformat": 4,
 "nbformat_minor": 5
}
