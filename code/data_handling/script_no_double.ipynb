{
 "cells": [
  {
   "cell_type": "code",
   "execution_count": null,
   "id": "806673e2",
   "metadata": {},
   "outputs": [],
   "source": [
    "import pandas as pd\n",
    "\n",
    "df = pd.read_csv('../data3/ospiti_info_C.csv')\n",
    "\n",
    "df_unique = df.drop_duplicates(subset=['Nome'], keep='first')\n",
    "\n",
    "df_unique.to_csv('../data3/ospiti_no_double.csv', index=False)"
   ]
  }
 ],
 "metadata": {
  "kernelspec": {
   "display_name": ".venv-py311",
   "language": "python",
   "name": "python3"
  },
  "language_info": {
   "codemirror_mode": {
    "name": "ipython",
    "version": 3
   },
   "file_extension": ".py",
   "mimetype": "text/x-python",
   "name": "python",
   "nbconvert_exporter": "python",
   "pygments_lexer": "ipython3",
   "version": "3.11.9"
  }
 },
 "nbformat": 4,
 "nbformat_minor": 5
}
