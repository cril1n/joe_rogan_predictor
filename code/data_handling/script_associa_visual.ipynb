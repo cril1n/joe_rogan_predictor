{
 "cells": [
  {
   "cell_type": "code",
   "execution_count": null,
   "id": "90c1c9c5",
   "metadata": {},
   "outputs": [],
   "source": [
    "import pandas as pd\n",
    "import numpy as np\n",
    "from pathlib import Path\n",
    "import re"
   ]
  },
  {
   "cell_type": "code",
   "execution_count": null,
   "id": "2abd1175",
   "metadata": {},
   "outputs": [],
   "source": [
    "\n",
    "\n",
    "base_dir = Path(\"/Users/cristianrossato/Desktop/social/code_3_11\")\n",
    "ospiti_file = base_dir / \"progetto/data/gemini_data/ospiti_cleared(6).csv\"\n",
    "episodi_file = base_dir / \"progetto/data/scripts/yt/yt_data/joe_rogan_episodes.csv\"\n",
    "\n",
    "output_dir = base_dir / \"progetto/data\"\n",
    "output_file = output_dir / \"associazione_guest_visual.csv\"\n",
    "\n",
    "df_ospiti = pd.read_csv(ospiti_file)\n",
    "\n",
    "df_episodi = pd.read_csv(episodi_file)\n"
   ]
  },
  {
   "cell_type": "code",
   "execution_count": null,
   "id": "63b26e00",
   "metadata": {},
   "outputs": [],
   "source": [
    "def normalizza_nome(nome):\n",
    "    if pd.isna(nome):\n",
    "        return \"\"\n",
    "    nome = str(nome).lower().strip()\n",
    "    nome = re.sub(r'[^a-zA-Z0-9\\s]', '', nome)\n",
    "    nome = re.sub(r'\\s+', ' ', nome)\n",
    "    return nome\n",
    "\n",
    "df_ospiti['nome_normalizzato'] = df_ospiti['nome'].apply(normalizza_nome)\n",
    "df_episodi['guest_normalizzato'] = df_episodi['guest'].apply(normalizza_nome)\n"
   ]
  },
  {
   "cell_type": "code",
   "execution_count": null,
   "id": "b8d54d68",
   "metadata": {},
   "outputs": [],
   "source": [
    "def nome_contenuto_in_guest(nome_ospite, nome_guest):\n",
    "    if not nome_ospite or not nome_guest:\n",
    "        return False\n",
    "    \n",
    "    return nome_ospite in nome_guest\n",
    "\n",
    "risultati = []\n",
    "\n",
    "\n",
    "for idx, ospite in df_ospiti.iterrows():\n",
    "    nome_ospite = ospite['nome_normalizzato']\n",
    "    nome_originale = ospite['nome']\n",
    "    \n",
    "    episodi_ospite = df_episodi[df_episodi['guest_normalizzato'].apply(\n",
    "        lambda x: nome_contenuto_in_guest(nome_ospite, x)\n",
    "    )]\n",
    "    \n",
    "    if len(episodi_ospite) > 0:\n",
    "        for _, episodio in episodi_ospite.iterrows():\n",
    "            risultati.append({\n",
    "                'nome': nome_originale,\n",
    "                'video_id': episodio['video_id'],\n",
    "                'title': episodio['title'],\n",
    "                'published_at': episodio['published_at'],\n",
    "                'views': episodio['views'],\n",
    "                'likes': episodio['likes'],\n",
    "                'comments': episodio['comments']\n",
    "            })\n",
    "        "
   ]
  },
  {
   "cell_type": "code",
   "execution_count": null,
   "id": "17ce25da",
   "metadata": {},
   "outputs": [],
   "source": [
    "if risultati:\n",
    "    df_risultati = pd.DataFrame(risultati)\n",
    "    \n",
    "    df_risultati = df_risultati.sort_values('views', ascending=False)\n",
    "    \n",
    "    output_dir.mkdir(exist_ok=True)\n",
    "    \n",
    "    df_risultati_finale = df_risultati[['nome', 'video_id','published_at', 'views', 'likes', 'comments']]\n",
    "    df_risultati_finale.to_csv(output_file, index=False)\n"
   ]
  },
  {
   "cell_type": "code",
   "execution_count": null,
   "id": "b126cf16",
   "metadata": {},
   "outputs": [],
   "source": [
    "if risultati:\n",
    "    \n",
    "    ospiti_stats = df_risultati.groupby('nome').agg({\n",
    "        'views': ['count', 'mean', 'max'],\n",
    "        'likes': 'mean',\n",
    "        'comments': 'mean'\n",
    "    }).round(0)\n",
    "    \n",
    "    ospiti_stats.columns = ['episodi', 'views_media', 'views_max', 'likes_media', 'comments_media']\n",
    "    ospiti_stats = ospiti_stats.sort_values('views_media', ascending=False)"
   ]
  }
 ],
 "metadata": {
  "kernelspec": {
   "display_name": ".venv-py311",
   "language": "python",
   "name": "python3"
  },
  "language_info": {
   "codemirror_mode": {
    "name": "ipython",
    "version": 3
   },
   "file_extension": ".py",
   "mimetype": "text/x-python",
   "name": "python",
   "nbconvert_exporter": "python",
   "pygments_lexer": "ipython3",
   "version": "3.11.9"
  }
 },
 "nbformat": 4,
 "nbformat_minor": 5
}
