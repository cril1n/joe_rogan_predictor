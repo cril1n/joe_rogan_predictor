{
 "cells": [
  {
   "cell_type": "code",
   "execution_count": null,
   "id": "e4cbd41e",
   "metadata": {},
   "outputs": [],
   "source": [
    "import pandas as pd\n",
    "import numpy as np\n",
    "\n",
    "file_path = '../data3/ospiti_lowercase.csv'\n",
    "df = pd.read_csv(file_path)\n",
    "\n",
    "null_counts = df.isna().sum(axis=1)\n",
    "rows_to_drop = null_counts[null_counts > 4].index\n",
    "print(f\"\\nNumero di righe con più di 4 valori nulli: {len(rows_to_drop)}\")\n",
    "\n",
    "removed_guests = df.loc[rows_to_drop, 'nome']\n",
    "\n",
    "df_cleaned = df.drop(rows_to_drop)\n",
    "\n",
    "output_file_path = '../data3/ospiti_no_null.csv'\n",
    "df_cleaned.to_csv(output_file_path, index=False)"
   ]
  }
 ],
 "metadata": {
  "kernelspec": {
   "display_name": ".venv-py311",
   "language": "python",
   "name": "python3"
  },
  "language_info": {
   "codemirror_mode": {
    "name": "ipython",
    "version": 3
   },
   "file_extension": ".py",
   "mimetype": "text/x-python",
   "name": "python",
   "nbconvert_exporter": "python",
   "pygments_lexer": "ipython3",
   "version": "3.11.9"
  }
 },
 "nbformat": 4,
 "nbformat_minor": 5
}
