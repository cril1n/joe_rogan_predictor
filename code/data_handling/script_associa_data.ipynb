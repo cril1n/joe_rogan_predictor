{
 "cells": [
  {
   "cell_type": "code",
   "execution_count": null,
   "id": "cdee2ce2",
   "metadata": {},
   "outputs": [],
   "source": [
    "import pandas as pd\n",
    "\n",
    "episodes_df = pd.read_csv('/Users/cristianrossato/Desktop/social/code_3_11/progetto/data2/joe_rogan_episodes.csv')\n",
    "association_df = pd.read_csv('/Users/cristianrossato/Desktop/social/code_3_11/progetto/data2/associazione_guest_visual.csv')\n",
    "\n",
    "video_id_to_date = {}\n",
    "for _, row in episodes_df.iterrows():\n",
    "    video_id_to_date[row['video_id']] = row['published_at']\n",
    "\n",
    "association_df['published_at'] = association_df['video_id'].map(video_id_to_date)\n",
    "\n",
    "association_df_final = association_df.drop('video_id', axis=1)\n",
    "\n",
    "columns_order = ['nome', 'published_at', 'views', 'likes', 'comments']\n",
    "association_df_final = association_df_final[columns_order]\n",
    "\n",
    "association_df_final.to_csv('/Users/cristianrossato/Desktop/social/code_3_11/progetto/data2/associazione_guest_visual_with_dates.csv', index=False)\n"
   ]
  }
 ],
 "metadata": {
  "kernelspec": {
   "display_name": ".venv-py311",
   "language": "python",
   "name": "python3"
  },
  "language_info": {
   "codemirror_mode": {
    "name": "ipython",
    "version": 3
   },
   "file_extension": ".py",
   "mimetype": "text/x-python",
   "name": "python",
   "nbconvert_exporter": "python",
   "pygments_lexer": "ipython3",
   "version": "3.11.9"
  }
 },
 "nbformat": 4,
 "nbformat_minor": 5
}
