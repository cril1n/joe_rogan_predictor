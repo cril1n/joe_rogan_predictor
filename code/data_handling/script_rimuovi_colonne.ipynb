{
 "cells": [
  {
   "cell_type": "code",
   "execution_count": null,
   "id": "b0eeefb6",
   "metadata": {},
   "outputs": [],
   "source": [
    "import pandas as pd\n",
    "\n",
    "data = pd.read_csv('../gemini/gem_data/video_dupplicati.csv')\n",
    "\n",
    "data = data.dropna(thresh=700,axis=1)\n",
    "\n",
    "data.to_csv('../data2/ospiti_cleared_2.csv', index=False)"
   ]
  },
  {
   "cell_type": "code",
   "execution_count": null,
   "id": "528b933b",
   "metadata": {},
   "outputs": [],
   "source": [
    "import pandas as pd\n",
    "\n",
    "data = pd.read_csv('../gemini/gem_data/video_dupplicati.csv')\n",
    "\n",
    "data = data.drop(['Nome', 'Nazionalità', 'Sesso', 'Età', 'Professione', 'Notorietà', 'Numero di follower social'], axis=1)\n",
    "\n",
    "\n",
    "data.to_csv('../gemini/gem_data/video_dupplicati.csv', index=False)"
   ]
  }
 ],
 "metadata": {
  "kernelspec": {
   "display_name": ".venv-py311",
   "language": "python",
   "name": "python3"
  },
  "language_info": {
   "codemirror_mode": {
    "name": "ipython",
    "version": 3
   },
   "file_extension": ".py",
   "mimetype": "text/x-python",
   "name": "python",
   "nbconvert_exporter": "python",
   "pygments_lexer": "ipython3",
   "version": "3.11.9"
  }
 },
 "nbformat": 4,
 "nbformat_minor": 5
}
