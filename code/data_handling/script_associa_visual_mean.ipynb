{
 "cells": [
  {
   "cell_type": "code",
   "execution_count": null,
   "id": "90c1c9c5",
   "metadata": {},
   "outputs": [],
   "source": [
    "import pandas as pd\n",
    "import numpy as np\n",
    "from pathlib import Path\n",
    "import re"
   ]
  },
  {
   "cell_type": "code",
   "execution_count": null,
   "id": "2abd1175",
   "metadata": {},
   "outputs": [],
   "source": [
    "data_dir = Path('../data')\n",
    "data2_dir = Path('../data2')\n",
    "output_dir = Path('../output')\n",
    "\n",
    "ospiti_file = data2_dir / 'ospiti_cleared(6).csv'\n",
    "episodi_file = data_dir / 'joe_rogan_episodes.csv'\n",
    "\n",
    "output_file = output_dir / 'associazione_guest_visual_mean.csv'\n",
    "\n",
    "df_ospiti = pd.read_csv(ospiti_file)\n",
    "\n",
    "df_episodi = pd.read_csv(episodi_file)\n"
   ]
  },
  {
   "cell_type": "code",
   "execution_count": null,
   "id": "63b26e00",
   "metadata": {},
   "outputs": [],
   "source": [
    "def normalizza_nome(nome):\n",
    "    if pd.isna(nome):\n",
    "        return \"\"\n",
    "    nome = str(nome).lower().strip()\n",
    "    nome = re.sub(r'[^a-zA-Z0-9\\s]', '', nome)\n",
    "    nome = re.sub(r'\\s+', ' ', nome)\n",
    "    return nome\n",
    "\n",
    "df_ospiti['nome_normalizzato'] = df_ospiti['nome'].apply(normalizza_nome)\n",
    "df_episodi['guest_normalizzato'] = df_episodi['guest'].apply(normalizza_nome)"
   ]
  },
  {
   "cell_type": "code",
   "execution_count": null,
   "id": "b8d54d68",
   "metadata": {},
   "outputs": [],
   "source": [
    "def nome_contenuto_in_guest(nome_ospite, nome_guest):\n",
    "    if not nome_ospite or not nome_guest:\n",
    "        return False\n",
    "    \n",
    "    return nome_ospite in nome_guest\n",
    "\n",
    "ospiti_dati = {}\n",
    "\n",
    "for idx, ospite in df_ospiti.iterrows():\n",
    "    nome_ospite = ospite['nome_normalizzato']\n",
    "    nome_originale = ospite['nome']\n",
    "    \n",
    "    episodi_ospite = df_episodi[df_episodi['guest_normalizzato'].apply(\n",
    "        lambda x: nome_contenuto_in_guest(nome_ospite, x)\n",
    "    )]\n",
    "    \n",
    "    if len(episodi_ospite) > 0:\n",
    "        views_list = episodi_ospite['views'].tolist()\n",
    "        likes_list = episodi_ospite['likes'].tolist()\n",
    "        comments_list = episodi_ospite['comments'].tolist()\n",
    "        \n",
    "        views_media = np.mean(views_list)\n",
    "        likes_media = np.mean(likes_list)\n",
    "        comments_media = np.mean(comments_list)\n",
    "        \n",
    "        ospiti_dati[nome_originale] = {\n",
    "            'nome': nome_originale,\n",
    "            'views': views_media,\n",
    "            'likes': likes_media,\n",
    "            'comments': comments_media,\n",
    "            'num_episodi': len(episodi_ospite)\n",
    "        }\n",
    "        "
   ]
  },
  {
   "cell_type": "code",
   "execution_count": null,
   "id": "17ce25da",
   "metadata": {},
   "outputs": [],
   "source": [
    "if ospiti_dati:\n",
    "    risultati = list(ospiti_dati.values())\n",
    "    df_risultati = pd.DataFrame(risultati)\n",
    "    \n",
    "    df_risultati = df_risultati.sort_values('views', ascending=False)\n",
    "\n",
    "    output_dir.mkdir(exist_ok=True)\n",
    "    \n",
    "    df_risultati_finale = df_risultati[['nome', 'views', 'likes', 'comments']].copy()\n",
    "    \n",
    "    df_risultati_finale['views'] = df_risultati_finale['views'].round(0).astype(int)\n",
    "    df_risultati_finale['likes'] = df_risultati_finale['likes'].round(0).astype(int)\n",
    "    df_risultati_finale['comments'] = df_risultati_finale['comments'].round(0).astype(int)\n",
    "    \n",
    "    df_risultati_finale.to_csv(output_file, index=False)\n",
    "    \n"
   ]
  }
 ],
 "metadata": {
  "kernelspec": {
   "display_name": ".venv-py311",
   "language": "python",
   "name": "python3"
  },
  "language_info": {
   "codemirror_mode": {
    "name": "ipython",
    "version": 3
   },
   "file_extension": ".py",
   "mimetype": "text/x-python",
   "name": "python",
   "nbconvert_exporter": "python",
   "pygments_lexer": "ipython3",
   "version": "3.11.9"
  }
 },
 "nbformat": 4,
 "nbformat_minor": 5
}
