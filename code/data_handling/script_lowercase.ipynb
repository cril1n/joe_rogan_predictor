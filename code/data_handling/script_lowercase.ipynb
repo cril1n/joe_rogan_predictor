{
 "cells": [
  {
   "cell_type": "code",
   "execution_count": null,
   "id": "60c94377",
   "metadata": {},
   "outputs": [
    {
     "name": "stdout",
     "output_type": "stream",
     "text": [
      "File con valori in lowercase scritto in: /Users/cristianrossato/Desktop/social/code_3_11/progetto/data3/ospiti_lowercase.csv\n"
     ]
    }
   ],
   "source": [
    "import csv\n",
    "\n",
    "input_file = '/Users/cristianrossato/Desktop/social/code_3_11/progetto/data3/ospiti_no_double.csv'\n",
    "output_file = '/Users/cristianrossato/Desktop/social/code_3_11/progetto/data3/ospiti_lowercase.csv'\n",
    "\n",
    "with open(input_file, newline='', encoding='utf-8') as infile, \\\n",
    "     open(output_file, 'w', newline='', encoding='utf-8') as outfile:\n",
    "    \n",
    "    reader = csv.reader(infile)\n",
    "    writer = csv.writer(outfile)\n",
    "    \n",
    "    for row in reader:\n",
    "        row_lower = [field.lower() for field in row]\n",
    "        writer.writerow(row_lower)\n",
    "        \n"
   ]
  }
 ],
 "metadata": {
  "kernelspec": {
   "display_name": ".venv-py311",
   "language": "python",
   "name": "python3"
  },
  "language_info": {
   "codemirror_mode": {
    "name": "ipython",
    "version": 3
   },
   "file_extension": ".py",
   "mimetype": "text/x-python",
   "name": "python",
   "nbconvert_exporter": "python",
   "pygments_lexer": "ipython3",
   "version": "3.11.9"
  }
 },
 "nbformat": 4,
 "nbformat_minor": 5
}
