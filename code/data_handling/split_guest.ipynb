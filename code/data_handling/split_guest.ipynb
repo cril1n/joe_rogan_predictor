{
 "cells": [
  {
   "cell_type": "code",
   "execution_count": null,
   "id": "9638b399",
   "metadata": {},
   "outputs": [],
   "source": [
    "import pandas as pd\n",
    "import re\n",
    "\n",
    "def split_guests(csv_file_path, output_file_path=None):\n",
    "    \n",
    "    df = pd.read_csv(csv_file_path)\n",
    "    \n",
    "    new_rows = []\n",
    "    \n",
    "    for index, row in df.iterrows():\n",
    "        guest_field = row['guest']\n",
    "\n",
    "        separators = [' & ', ', ', ' and ', ' And ', ' AND ']\n",
    "        \n",
    "        guests = [guest_field] \n",
    "        \n",
    "        for separator in separators:\n",
    "            if separator in guest_field:\n",
    "                guests = [guest.strip() for guest in guest_field.split(separator)]\n",
    "                break\n",
    "        \n",
    "        if len(guests) == 1 and ' & ' in guest_field:\n",
    "            guests = [guest.strip() for guest in guest_field.split(' & ')]\n",
    "        \n",
    "        for guest in guests:\n",
    "            new_row = row.copy()\n",
    "            new_row['guest'] = guest.strip()\n",
    "            new_rows.append(new_row)\n",
    "    \n",
    "    new_df = pd.DataFrame(new_rows)\n",
    "    \n",
    "    new_df = new_df.sort_values('published_at', ascending=False).reset_index(drop=True)\n",
    "    \n",
    "    if output_file_path:\n",
    "        new_df.to_csv(output_file_path, index=False)\n",
    "        print(f\"File salvato in: {output_file_path}\")\n",
    "    \n",
    "    return new_df\n",
    "\n",
    "input_file = \"../yt/joe_rogan_episodes_with_description.csv\"\n",
    "output_file = \"../yt/joe_rogan_episodes_separated_guests.csv\"\n",
    "\n",
    "df_separated = split_guests(input_file, output_file)"
   ]
  }
 ],
 "metadata": {
  "kernelspec": {
   "display_name": ".venv-py311",
   "language": "python",
   "name": "python3"
  },
  "language_info": {
   "codemirror_mode": {
    "name": "ipython",
    "version": 3
   },
   "file_extension": ".py",
   "mimetype": "text/x-python",
   "name": "python",
   "nbconvert_exporter": "python",
   "pygments_lexer": "ipython3",
   "version": "3.11.9"
  }
 },
 "nbformat": 4,
 "nbformat_minor": 5
}
