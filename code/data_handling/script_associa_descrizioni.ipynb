{
 "cells": [
  {
   "cell_type": "code",
   "execution_count": null,
   "id": "1e1538e1",
   "metadata": {},
   "outputs": [],
   "source": [
    "import pandas as pd\n",
    "\n",
    "df_senza_descrizioni = pd.read_csv('../yt/yt_data/joe_rogan_episodes.csv')\n",
    "df_con_descrizioni = pd.read_csv('../yt/yt_data/joe_rogan_episodes_with_description.csv')\n",
    "\n",
    "df_merged = df_senza_descrizioni.merge(\n",
    "    df_con_descrizioni[['video_id', 'description']], \n",
    "    on='video_id', \n",
    "    how='left'\n",
    ")\n",
    "\n",
    "df_final = df_merged[['video_id', 'guest', 'description']]\n",
    "\n",
    "df_final.to_csv('joe_rogan_episodes_final.csv', index=False)\n"
   ]
  }
 ],
 "metadata": {
  "kernelspec": {
   "display_name": ".venv-py311",
   "language": "python",
   "name": "python3"
  },
  "language_info": {
   "codemirror_mode": {
    "name": "ipython",
    "version": 3
   },
   "file_extension": ".py",
   "mimetype": "text/x-python",
   "name": "python",
   "nbconvert_exporter": "python",
   "pygments_lexer": "ipython3",
   "version": "3.11.9"
  }
 },
 "nbformat": 4,
 "nbformat_minor": 5
}
