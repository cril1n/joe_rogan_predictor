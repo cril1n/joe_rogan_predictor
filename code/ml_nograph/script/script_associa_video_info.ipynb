{
 "cells": [
  {
   "cell_type": "code",
   "execution_count": null,
   "id": "8f53e152",
   "metadata": {},
   "outputs": [],
   "source": [
    "import pandas as pd\n",
    "\n",
    "guest_data = pd.read_csv(\"../data/guest_data_uniformati.csv\")\n",
    "video_data = pd.read_csv(\"../data/joe_rogan_episodes_with_description.csv\")\n",
    "\n",
    "video_info = video_data[['video_id', 'published_at', 'views', 'likes', 'comments']]\n",
    "\n",
    "enriched_data = guest_data.merge(video_info, on='video_id', how='left')\n",
    "\n",
    "enriched_data.to_csv(\"../data/guest_data_with_metrics.csv\", index=False)\n"
   ]
  }
 ],
 "metadata": {
  "kernelspec": {
   "display_name": ".venv-py311",
   "language": "python",
   "name": "python3"
  },
  "language_info": {
   "codemirror_mode": {
    "name": "ipython",
    "version": 3
   },
   "file_extension": ".py",
   "mimetype": "text/x-python",
   "name": "python",
   "nbconvert_exporter": "python",
   "pygments_lexer": "ipython3",
   "version": "3.11.9"
  }
 },
 "nbformat": 4,
 "nbformat_minor": 5
}
