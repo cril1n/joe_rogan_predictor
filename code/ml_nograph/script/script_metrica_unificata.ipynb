{
 "cells": [
  {
   "cell_type": "code",
   "execution_count": null,
   "id": "29a1d2ab",
   "metadata": {},
   "outputs": [],
   "source": [
    "import pandas as pd\n",
    "import numpy as np\n",
    "from datetime import datetime\n",
    "\n",
    "df = pd.read_csv('../data/guest_data_with_metrics.csv')\n",
    "\n",
    "df['published_at'] = pd.to_datetime(df['published_at'])\n",
    "\n",
    "df['year'] = df['published_at'].dt.to_period('Y')\n",
    "\n",
    "metrics = ['views', 'likes', 'comments']\n",
    "normalized_metrics = []\n",
    "\n",
    "for metric in metrics:\n",
    "    new_col = f'{metric}_quantile_norm'\n",
    "    normalized_metrics.append(new_col)\n",
    "    df[new_col] = df.groupby('year')[metric].rank(pct=True)\n",
    "\n",
    "df['podcast_score'] = (0.50 * df['comments_quantile_norm'] +    \n",
    "                       0.35 * df['likes_quantile_norm'] +      \n",
    "                       0.15 * df['views_quantile_norm'] ) \n",
    "\n",
    "columns_to_drop = ['views', 'likes', 'comments', 'year'] + normalized_metrics\n",
    "df_nuovo = df.drop(columns_to_drop, axis=1)\n",
    "\n",
    "df_nuovo.to_csv('../data/guest_data_with_podcast_score.csv', index=False)\n",
    "\n"
   ]
  }
 ],
 "metadata": {
  "kernelspec": {
   "display_name": ".venv-py311",
   "language": "python",
   "name": "python3"
  },
  "language_info": {
   "codemirror_mode": {
    "name": "ipython",
    "version": 3
   },
   "file_extension": ".py",
   "mimetype": "text/x-python",
   "name": "python",
   "nbconvert_exporter": "python",
   "pygments_lexer": "ipython3",
   "version": "3.11.9"
  }
 },
 "nbformat": 4,
 "nbformat_minor": 5
}
