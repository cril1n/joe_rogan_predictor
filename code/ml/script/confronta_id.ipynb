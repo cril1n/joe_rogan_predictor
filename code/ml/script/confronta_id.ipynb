{
 "cells": [
  {
   "cell_type": "code",
   "execution_count": null,
   "id": "9b1a1160",
   "metadata": {},
   "outputs": [],
   "source": [
    "import csv\n",
    "\n",
    "with open('../data/extracted_ids.txt', 'r') as file:\n",
    "    extracted_ids = set(line.strip() for line in file)\n",
    "\n",
    "\n",
    "video_ids_from_csv = set()\n",
    "\n",
    "with open('../data/guest_data_with_podcast_score.csv', 'r', encoding='utf-8') as csv_file:\n",
    "    csv_reader = csv.DictReader(csv_file)\n",
    "    for row in csv_reader:\n",
    "        if 'video_id' in row and row['video_id'].strip():\n",
    "            video_ids_from_csv.add(row['video_id'].strip())\n",
    "\n",
    "\n",
    "missing_ids = video_ids_from_csv - extracted_ids\n",
    "\n",
    "with open('../data/missing_ids.txt', 'w') as out_file:\n",
    "    for id in missing_ids:\n",
    "        out_file.write(id + '\\n')\n",
    "\n"
   ]
  }
 ],
 "metadata": {
  "kernelspec": {
   "display_name": ".venv-py311",
   "language": "python",
   "name": "python3"
  },
  "language_info": {
   "codemirror_mode": {
    "name": "ipython",
    "version": 3
   },
   "file_extension": ".py",
   "mimetype": "text/x-python",
   "name": "python",
   "nbconvert_exporter": "python",
   "pygments_lexer": "ipython3",
   "version": "3.11.9"
  }
 },
 "nbformat": 4,
 "nbformat_minor": 5
}
