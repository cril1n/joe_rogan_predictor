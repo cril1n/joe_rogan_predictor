{
 "cells": [
  {
   "cell_type": "code",
   "execution_count": null,
   "id": "8dc1f14e",
   "metadata": {},
   "outputs": [],
   "source": [
    "import json\n",
    "\n",
    "with open('../data/video_commenters_final.json', 'r') as file:\n",
    "    data = json.load(file)\n",
    "    \n",
    "ids = list(data.keys())\n",
    "\n",
    "for id in ids:\n",
    "    print(id)\n",
    "\n",
    "with open('../data/extracted_ids.txt', 'w') as out_file:\n",
    "    for id in ids:\n",
    "        out_file.write(id + '\\n')"
   ]
  }
 ],
 "metadata": {
  "kernelspec": {
   "display_name": ".venv-py311",
   "language": "python",
   "name": "python3"
  },
  "language_info": {
   "codemirror_mode": {
    "name": "ipython",
    "version": 3
   },
   "file_extension": ".py",
   "mimetype": "text/x-python",
   "name": "python",
   "nbconvert_exporter": "python",
   "pygments_lexer": "ipython3",
   "version": "3.11.9"
  }
 },
 "nbformat": 4,
 "nbformat_minor": 5
}
