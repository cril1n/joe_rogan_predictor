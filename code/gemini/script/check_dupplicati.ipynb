{
 "cells": [
  {
   "cell_type": "code",
   "execution_count": null,
   "id": "83abbfe7",
   "metadata": {},
   "outputs": [
    {
     "name": "stdout",
     "output_type": "stream",
     "text": [
      "Righe originali: 2184\n"
     ]
    }
   ],
   "source": [
    "import pandas as pd\n",
    "\n",
    "df = pd.read_csv('../gem_data/ospiti_info_aggiornato.csv')\n",
    "\n",
    "print(f\"Righe originali: {len(df)}\")\n",
    "\n",
    "name_counts = df['video_id'].value_counts()\n",
    "duplicate_names = name_counts[name_counts > 1].index\n",
    "\n",
    "df_duplicates = df[df['video_id'].isin(duplicate_names)]\n",
    "\n",
    "df_duplicates = df_duplicates.sort_values('video_id')\n",
    "\n",
    "df_duplicates.to_csv('../gem_data/video_dupplicati.csv', index=False)\n"
   ]
  }
 ],
 "metadata": {
  "kernelspec": {
   "display_name": ".venv-py311",
   "language": "python",
   "name": "python3"
  },
  "language_info": {
   "codemirror_mode": {
    "name": "ipython",
    "version": 3
   },
   "file_extension": ".py",
   "mimetype": "text/x-python",
   "name": "python",
   "nbconvert_exporter": "python",
   "pygments_lexer": "ipython3",
   "version": "3.11.9"
  }
 },
 "nbformat": 4,
 "nbformat_minor": 5
}
