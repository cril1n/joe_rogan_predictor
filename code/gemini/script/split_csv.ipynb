{
 "cells": [
  {
   "cell_type": "code",
   "execution_count": 1,
   "id": "010723f0",
   "metadata": {},
   "outputs": [],
   "source": [
    "import pandas as pd\n",
    "\n",
    "\n",
    "def split_csv_by_specific_columns(input_file):\n",
    "   \n",
    "    df = pd.read_csv(input_file)\n",
    "    \n",
    "    guest_info = df[['Nome', 'Nazionalità', 'Sesso', 'Età', 'Professione', 'Notorietà', 'Numero di follower social']]\n",
    "    guest_info.to_csv('ospiti_info_base.csv', index=False)\n",
    "    \n",
    "    # video_topic = df[['video_id', 'Nome', 'Professione', 'Notorietà', 'Numero di follower social']]\n",
    "    # video_topic.to_csv('ospiti_info_professionale.csv', index=False)\n",
    "    \n",
    "input_file = \"ospiti_info_with_descriptions.csv\"\n",
    "    \n",
    "split_csv_by_specific_columns(input_file)"
   ]
  }
 ],
 "metadata": {
  "kernelspec": {
   "display_name": ".venv-py311",
   "language": "python",
   "name": "python3"
  },
  "language_info": {
   "codemirror_mode": {
    "name": "ipython",
    "version": 3
   },
   "file_extension": ".py",
   "mimetype": "text/x-python",
   "name": "python",
   "nbconvert_exporter": "python",
   "pygments_lexer": "ipython3",
   "version": "3.11.9"
  }
 },
 "nbformat": 4,
 "nbformat_minor": 5
}
