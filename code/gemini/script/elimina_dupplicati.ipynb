{
 "cells": [
  {
   "cell_type": "code",
   "execution_count": null,
   "id": "f6564b08",
   "metadata": {},
   "outputs": [
    {
     "name": "stdout",
     "output_type": "stream",
     "text": [
      "Righe originali: 375\n",
      "Video_id unici: 182\n",
      "Righe dopo pulizia: 182\n",
      "Righe rimosse: 193\n"
     ]
    }
   ],
   "source": [
    "import pandas as pd\n",
    "\n",
    "df = pd.read_csv('../gem_data/video_dupplicati.csv')\n",
    "\n",
    "print(f\"Righe originali: {len(df)}\")\n",
    "print(f\"Video_id unici: {df['video_id'].nunique()}\")\n",
    "\n",
    "df_unici = df.drop_duplicates(subset=['video_id'], keep='first')\n",
    "\n",
    "df_unici.to_csv('../gem_data/video_unificati.csv', index=False)\n",
    "\n",
    "print(f\"Righe dopo pulizia: {len(df_unici)}\")\n",
    "print(f\"Righe rimosse: {len(df) - len(df_unici)}\")"
   ]
  }
 ],
 "metadata": {
  "kernelspec": {
   "display_name": ".venv-py311",
   "language": "python",
   "name": "python3"
  },
  "language_info": {
   "codemirror_mode": {
    "name": "ipython",
    "version": 3
   },
   "file_extension": ".py",
   "mimetype": "text/x-python",
   "name": "python",
   "nbconvert_exporter": "python",
   "pygments_lexer": "ipython3",
   "version": "3.11.9"
  }
 },
 "nbformat": 4,
 "nbformat_minor": 5
}
