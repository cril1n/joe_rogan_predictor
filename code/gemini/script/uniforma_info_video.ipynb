{
 "cells": [
  {
   "cell_type": "code",
   "execution_count": null,
   "id": "0524ade8",
   "metadata": {},
   "outputs": [],
   "source": [
    "import pandas as pd\n",
    "\n",
    "def aggiorna_video_con_dati_uniformati(file_principale, file_duplicati, file_output):\n",
    "    df_principale = pd.read_csv(file_principale)\n",
    "    df_duplicati = pd.read_csv(file_duplicati)\n",
    "    \n",
    "    \n",
    "    dati_uniformati = {}\n",
    "    for _, row in df_duplicati.iterrows():\n",
    "        id = row['video_id']\n",
    "        if id not in dati_uniformati:\n",
    "            dati_uniformati[id] = {\n",
    "                'Topic video': row['Topic video']\n",
    "            }\n",
    "        \n",
    "    df_aggiornato = df_principale.copy()\n",
    "    video_aggiornati = []\n",
    "    \n",
    "    for idx, row in df_aggiornato.iterrows():\n",
    "        id = row['video_id']\n",
    "        \n",
    "        if id in dati_uniformati:\n",
    "            dati = dati_uniformati[id]\n",
    "            \n",
    "            df_aggiornato.at[idx, 'Topic video'] = dati['Topic video']\n",
    "            \n",
    "            if id not in video_aggiornati:\n",
    "                video_aggiornati.append(id)\n",
    "    \n",
    "    df_aggiornato.to_csv(file_output, index=False)\n",
    "    \n",
    "    return df_aggiornato\n",
    "\n",
    "\n",
    "\n",
    "file_principale = \"../gem_data/ospiti_info_aggiornato.csv\"\n",
    "file_duplicati = \"../gem_data/video_unificati.csv\" \n",
    "file_output = \"../gem_data/data_final.csv\"\n",
    "\n",
    "df_risultato = aggiorna_video_con_dati_uniformati(\n",
    "    file_principale, \n",
    "    file_duplicati, \n",
    "    file_output\n",
    ")"
   ]
  }
 ],
 "metadata": {
  "kernelspec": {
   "display_name": ".venv-py311",
   "language": "python",
   "name": "python3"
  },
  "language_info": {
   "codemirror_mode": {
    "name": "ipython",
    "version": 3
   },
   "file_extension": ".py",
   "mimetype": "text/x-python",
   "name": "python",
   "nbconvert_exporter": "python",
   "pygments_lexer": "ipython3",
   "version": "3.11.9"
  }
 },
 "nbformat": 4,
 "nbformat_minor": 5
}
